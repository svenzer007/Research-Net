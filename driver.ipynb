{
 "cells": [
  {
   "cell_type": "markdown",
   "id": "a9852d54-ea03-4d70-b096-4f1e1469663a",
   "metadata": {},
   "source": [
    "### Environment setup"
   ]
  },
  {
   "cell_type": "code",
   "execution_count": 1,
   "id": "4e9f5bad-5012-4d1e-b733-b5175afd52c1",
   "metadata": {},
   "outputs": [
    {
     "name": "stdout",
     "output_type": "stream",
     "text": [
      "Defaulting to user installation because normal site-packages is not writeable\n",
      "Requirement already satisfied: graphframes in /home/jovyan/.local/lib/python3.12/site-packages (0.6)\n",
      "Requirement already satisfied: ipywidgets in /home/jovyan/.local/lib/python3.12/site-packages (8.1.6)\n",
      "Requirement already satisfied: pyarrow in /home/jovyan/.local/lib/python3.12/site-packages (20.0.0)\n",
      "Requirement already satisfied: pyvis==0.3.1 in /home/jovyan/.local/lib/python3.12/site-packages (0.3.1)\n",
      "Requirement already satisfied: networkx in /home/jovyan/.local/lib/python3.12/site-packages (3.4.2)\n",
      "Requirement already satisfied: matplotlib in /home/jovyan/.local/lib/python3.12/site-packages (3.10.1)\n",
      "Requirement already satisfied: jinja2>=2.9.6 in /opt/conda/envs/bigdata/lib/python3.12/site-packages (from pyvis==0.3.1) (3.1.5)\n",
      "Requirement already satisfied: ipython>=5.3.0 in /opt/conda/envs/bigdata/lib/python3.12/site-packages (from pyvis==0.3.1) (8.32.0)\n",
      "Requirement already satisfied: jsonpickle>=1.4.1 in /home/jovyan/.local/lib/python3.12/site-packages (from pyvis==0.3.1) (4.0.5)\n",
      "Requirement already satisfied: numpy in /opt/conda/envs/bigdata/lib/python3.12/site-packages (from graphframes) (1.26.4)\n",
      "Requirement already satisfied: nose in /home/jovyan/.local/lib/python3.12/site-packages (from graphframes) (1.3.7)\n",
      "Requirement already satisfied: comm>=0.1.3 in /opt/conda/envs/bigdata/lib/python3.12/site-packages (from ipywidgets) (0.2.2)\n",
      "Requirement already satisfied: traitlets>=4.3.1 in /opt/conda/envs/bigdata/lib/python3.12/site-packages (from ipywidgets) (5.14.3)\n",
      "Requirement already satisfied: widgetsnbextension~=4.0.14 in /home/jovyan/.local/lib/python3.12/site-packages (from ipywidgets) (4.0.14)\n",
      "Requirement already satisfied: jupyterlab_widgets~=3.0.14 in /home/jovyan/.local/lib/python3.12/site-packages (from ipywidgets) (3.0.14)\n",
      "Requirement already satisfied: contourpy>=1.0.1 in /opt/conda/envs/bigdata/lib/python3.12/site-packages (from matplotlib) (1.3.1)\n",
      "Requirement already satisfied: cycler>=0.10 in /opt/conda/envs/bigdata/lib/python3.12/site-packages (from matplotlib) (0.12.1)\n",
      "Requirement already satisfied: fonttools>=4.22.0 in /opt/conda/envs/bigdata/lib/python3.12/site-packages (from matplotlib) (4.56.0)\n",
      "Requirement already satisfied: kiwisolver>=1.3.1 in /opt/conda/envs/bigdata/lib/python3.12/site-packages (from matplotlib) (1.4.8)\n",
      "Requirement already satisfied: packaging>=20.0 in /opt/conda/envs/bigdata/lib/python3.12/site-packages (from matplotlib) (24.2)\n",
      "Requirement already satisfied: pillow>=8 in /home/jovyan/.local/lib/python3.12/site-packages (from matplotlib) (11.2.1)\n",
      "Requirement already satisfied: pyparsing>=2.3.1 in /opt/conda/envs/bigdata/lib/python3.12/site-packages (from matplotlib) (3.2.1)\n",
      "Requirement already satisfied: python-dateutil>=2.7 in /opt/conda/envs/bigdata/lib/python3.12/site-packages (from matplotlib) (2.9.0.post0)\n",
      "Requirement already satisfied: decorator in /opt/conda/envs/bigdata/lib/python3.12/site-packages (from ipython>=5.3.0->pyvis==0.3.1) (5.1.1)\n",
      "Requirement already satisfied: jedi>=0.16 in /opt/conda/envs/bigdata/lib/python3.12/site-packages (from ipython>=5.3.0->pyvis==0.3.1) (0.19.2)\n",
      "Requirement already satisfied: matplotlib-inline in /opt/conda/envs/bigdata/lib/python3.12/site-packages (from ipython>=5.3.0->pyvis==0.3.1) (0.1.7)\n",
      "Requirement already satisfied: pexpect>4.3 in /opt/conda/envs/bigdata/lib/python3.12/site-packages (from ipython>=5.3.0->pyvis==0.3.1) (4.9.0)\n",
      "Requirement already satisfied: prompt_toolkit<3.1.0,>=3.0.41 in /opt/conda/envs/bigdata/lib/python3.12/site-packages (from ipython>=5.3.0->pyvis==0.3.1) (3.0.50)\n",
      "Requirement already satisfied: pygments>=2.4.0 in /opt/conda/envs/bigdata/lib/python3.12/site-packages (from ipython>=5.3.0->pyvis==0.3.1) (2.19.1)\n",
      "Requirement already satisfied: stack_data in /opt/conda/envs/bigdata/lib/python3.12/site-packages (from ipython>=5.3.0->pyvis==0.3.1) (0.6.3)\n",
      "Requirement already satisfied: MarkupSafe>=2.0 in /opt/conda/envs/bigdata/lib/python3.12/site-packages (from jinja2>=2.9.6->pyvis==0.3.1) (3.0.2)\n",
      "Requirement already satisfied: six>=1.5 in /opt/conda/envs/bigdata/lib/python3.12/site-packages (from python-dateutil>=2.7->matplotlib) (1.17.0)\n",
      "Requirement already satisfied: parso<0.9.0,>=0.8.4 in /opt/conda/envs/bigdata/lib/python3.12/site-packages (from jedi>=0.16->ipython>=5.3.0->pyvis==0.3.1) (0.8.4)\n",
      "Requirement already satisfied: ptyprocess>=0.5 in /opt/conda/envs/bigdata/lib/python3.12/site-packages (from pexpect>4.3->ipython>=5.3.0->pyvis==0.3.1) (0.7.0)\n",
      "Requirement already satisfied: wcwidth in /opt/conda/envs/bigdata/lib/python3.12/site-packages (from prompt_toolkit<3.1.0,>=3.0.41->ipython>=5.3.0->pyvis==0.3.1) (0.2.13)\n",
      "Requirement already satisfied: executing>=1.2.0 in /opt/conda/envs/bigdata/lib/python3.12/site-packages (from stack_data->ipython>=5.3.0->pyvis==0.3.1) (2.1.0)\n",
      "Requirement already satisfied: asttokens>=2.1.0 in /opt/conda/envs/bigdata/lib/python3.12/site-packages (from stack_data->ipython>=5.3.0->pyvis==0.3.1) (3.0.0)\n",
      "Requirement already satisfied: pure_eval in /opt/conda/envs/bigdata/lib/python3.12/site-packages (from stack_data->ipython>=5.3.0->pyvis==0.3.1) (0.2.3)\n",
      "Note: you may need to restart the kernel to use updated packages.\n"
     ]
    }
   ],
   "source": [
    "pip install graphframes ipywidgets pyarrow pyvis==0.3.1 networkx matplotlib"
   ]
  },
  {
   "cell_type": "code",
   "execution_count": 1,
   "id": "bb4518a6-df65-46c2-83b9-a1b9d1605771",
   "metadata": {},
   "outputs": [],
   "source": [
    "# Cell 2 — make sure Python can see your module, and import the bits you need\n",
    "import sys\n",
    "from pathlib import Path\n",
    "\n",
    "# adjust this to wherever you put your module\n",
    "MODULE_DIR = Path.home()/\"Final Project\"/\"modules\"\n",
    "sys.path.append(str(MODULE_DIR))\n",
    "\n",
    "import keyword_search_module as ksm\n",
    "import publication_search_module as psm\n",
    "\n",
    "# bring functions into local namespace if you like\n",
    "from keyword_search_module import initialize_spark, search_papers_widget, build_graph_widget, build_graph_from_keywords\n",
    "from publication_search_module import build_publication_graph_widget"
   ]
  },
  {
   "cell_type": "code",
   "execution_count": 2,
   "id": "5e875dda-eeda-425d-b640-fe03c6596329",
   "metadata": {},
   "outputs": [
    {
     "name": "stdout",
     "output_type": "stream",
     "text": [
      ":: loading settings :: url = jar:file:/opt/conda/envs/bigdata/lib/python3.12/site-packages/pyspark/jars/ivy-2.5.1.jar!/org/apache/ivy/core/settings/ivysettings.xml\n"
     ]
    },
    {
     "name": "stderr",
     "output_type": "stream",
     "text": [
      "Ivy Default Cache set to: /home/jovyan/.ivy2/cache\n",
      "The jars for the packages stored in: /home/jovyan/.ivy2/jars\n",
      "graphframes#graphframes added as a dependency\n",
      ":: resolving dependencies :: org.apache.spark#spark-submit-parent-562d7bdd-f5a5-4601-8956-821fba7d89f5;1.0\n",
      "\tconfs: [default]\n",
      "\tfound graphframes#graphframes;0.8.2-spark3.1-s_2.12 in spark-packages\n",
      "\tfound org.slf4j#slf4j-api;1.7.16 in central\n",
      ":: resolution report :: resolve 551ms :: artifacts dl 14ms\n",
      "\t:: modules in use:\n",
      "\tgraphframes#graphframes;0.8.2-spark3.1-s_2.12 from spark-packages in [default]\n",
      "\torg.slf4j#slf4j-api;1.7.16 from central in [default]\n",
      "\t---------------------------------------------------------------------\n",
      "\t|                  |            modules            ||   artifacts   |\n",
      "\t|       conf       | number| search|dwnlded|evicted|| number|dwnlded|\n",
      "\t---------------------------------------------------------------------\n",
      "\t|      default     |   2   |   0   |   0   |   0   ||   2   |   0   |\n",
      "\t---------------------------------------------------------------------\n",
      ":: retrieving :: org.apache.spark#spark-submit-parent-562d7bdd-f5a5-4601-8956-821fba7d89f5\n",
      "\tconfs: [default]\n",
      "\t0 artifacts copied, 2 already retrieved (0kB/9ms)\n",
      "25/05/14 01:40:47 WARN NativeCodeLoader: Unable to load native-hadoop library for your platform... using builtin-java classes where applicable\n",
      "Setting default log level to \"WARN\".\n",
      "To adjust logging level use sc.setLogLevel(newLevel). For SparkR, use setLogLevel(newLevel).\n"
     ]
    }
   ],
   "source": [
    "# Cell 3 — start Spark and distribute our module (so that ksm.spark & ksm.sc will be available, and set PROJECT_ROOT)\n",
    "from pathlib import Path\n",
    "import keyword_search_module  # notebook driver can already see it\n",
    "\n",
    "# initialize Spark\n",
    "spark, sc = initialize_spark(driver_memory=\"6g\", shuffle_partitions=32)\n",
    "\n",
    "# ship the module to executors\n",
    "MODULE_DIR = Path.home()/\"Final Project\"/\"modules\"\n",
    "MODULE_FILE = MODULE_DIR/\"keyword_search_module.py\"\n",
    "MODULE_FILE2 = MODULE_DIR/\"publication_search_module.py\"\n",
    "sc.addPyFile(str(MODULE_FILE))\n",
    "sc.addPyFile(str(MODULE_FILE2))  \n",
    "\n",
    "# set up PROJECT_ROOT and checkpointing\n",
    "\n",
    "PROJECT_ROOT_KEYWORD_SEARCH = Path(\"/home/jovyan/Final Project/keyword_search\")\n",
    "PROJECT_ROOT_KEYWORD_SEARCH.mkdir(exist_ok=True, parents=True)\n",
    "sc.setCheckpointDir(str(PROJECT_ROOT_KEYWORD_SEARCH/\"checkpoints\"))\n",
    "\n",
    "PROJECT_ROOT_PUBLICATION_SEARCH = Path(\"/home/jovyan/Final Project/publication_search\")\n",
    "PROJECT_ROOT_PUBLICATION_SEARCH.mkdir(exist_ok=True, parents=True)\n",
    "# (optional) sc.setCheckpointDir(str(PROJECT_ROOT_PUBLICATION_SEARCH/\"checkpoints\"))\n",
    "psm.PROJECT_ROOT = PROJECT_ROOT_PUBLICATION_SEARCH\n",
    "\n",
    "\n",
    "\n",
    "# make PROJECT_ROOT available inside the module too\n",
    "import keyword_search_module as m; m.PROJECT_ROOT = PROJECT_ROOT_KEYWORD_SEARCH\n"
   ]
  },
  {
   "cell_type": "code",
   "execution_count": 3,
   "id": "7832eab2-3d9e-49fe-85fd-15c71d962bec",
   "metadata": {},
   "outputs": [],
   "source": [
    "# Cell 5: import and distribute paper-ID module\n",
    "import sys\n",
    "from pathlib import Path\n",
    "# set up PROJECT_ROOT and checkpointing\n",
    "\n",
    "PROJECT_ROOT_PAPER_ID_SEARCH = Path(\"/home/jovyan/Final Project/paper_id_search\")\n",
    "PROJECT_ROOT_PAPER_ID_SEARCH.mkdir(exist_ok=True, parents=True)\n",
    "sc.setCheckpointDir(str(PROJECT_ROOT_PAPER_ID_SEARCH/\"checkpoints\"))\n",
    "\n",
    "MODULE_DIR = Path.home()/\"Final Project\"/\"modules\"\n",
    "MODULE_FILE_PAPER_ID_SEARCH = MODULE_DIR/\"paper_id_search_module.py\"\n",
    "sc.addPyFile(str(MODULE_FILE_PAPER_ID_SEARCH))\n",
    "\n",
    "import paper_id_search_module as pidm\n",
    "from paper_id_search_module import build_id_graph_widget\n",
    "pidm.PROJECT_ROOT = PROJECT_ROOT_PAPER_ID_SEARCH\n"
   ]
  },
  {
   "cell_type": "markdown",
   "id": "8974d1e9-84fb-4f0b-a4e4-09233f7f6788",
   "metadata": {},
   "source": [
    "### Widget for Keyword based search"
   ]
  },
  {
   "cell_type": "code",
   "execution_count": 4,
   "id": "725e63b0-e9a6-4e33-9e85-4c3d4eb3fd77",
   "metadata": {
    "scrolled": true
   },
   "outputs": [
    {
     "data": {
      "application/vnd.jupyter.widget-view+json": {
       "model_id": "1e87dd05c4c8441596f26ad7bb70d39b",
       "version_major": 2,
       "version_minor": 0
      },
      "text/plain": [
       "VBox(children=(Text(value='', description='Keywords:'), IntSlider(value=50, description='Max Papers:', min=10,…"
      ]
     },
     "metadata": {},
     "output_type": "display_data"
    }
   ],
   "source": [
    "# Cell 4 — build & visualize the graph via the module’s widget UI\n",
    "build_graph_widget(spark, sc)"
   ]
  },
  {
   "cell_type": "markdown",
   "id": "3bda9f73-c830-496c-8268-3bad1c621ad8",
   "metadata": {},
   "source": [
    "### Widget for paper id search"
   ]
  },
  {
   "cell_type": "code",
   "execution_count": 5,
   "id": "f0af1830-21bc-4cce-985e-49d03660eb83",
   "metadata": {},
   "outputs": [
    {
     "data": {
      "application/vnd.jupyter.widget-view+json": {
       "model_id": "833b00012c6d4ca0b5b39383cd956229",
       "version_major": 2,
       "version_minor": 0
      },
      "text/plain": [
       "VBox(children=(Text(value='', description='IDs:', placeholder='e.g. 649def34f8be52c8b66281af98ae884c09aef38b, …"
      ]
     },
     "metadata": {},
     "output_type": "display_data"
    }
   ],
   "source": [
    "# Cell 6: show the graph-builder widget\n",
    "build_id_graph_widget(spark, sc)"
   ]
  },
  {
   "cell_type": "markdown",
   "id": "82c55ecd-df52-41c8-99ad-50b5c47f33ff",
   "metadata": {},
   "source": [
    "### Widget for Publication and year based search"
   ]
  },
  {
   "cell_type": "code",
   "execution_count": 6,
   "id": "037f2147-1677-4b2b-9204-054774d6ed3a",
   "metadata": {},
   "outputs": [
    {
     "data": {
      "application/vnd.jupyter.widget-view+json": {
       "model_id": "3f67476025a04554b6abcd13caac312a",
       "version_major": 2,
       "version_minor": 0
      },
      "text/plain": [
       "VBox(children=(Text(value='', description='Publication:', placeholder='e.g. Nature'), IntText(value=2020, desc…"
      ]
     },
     "metadata": {},
     "output_type": "display_data"
    }
   ],
   "source": [
    "# Cell 7 — build & visualize the graph via your new publication_search_module\n",
    "build_publication_graph_widget(spark, sc)"
   ]
  },
  {
   "cell_type": "code",
   "execution_count": null,
   "id": "f1dd6498-13fc-44c9-8443-3a86751f855a",
   "metadata": {},
   "outputs": [],
   "source": []
  }
 ],
 "metadata": {
  "kernelspec": {
   "display_name": "Python [conda env:bigdata]",
   "language": "python",
   "name": "conda-env-bigdata-py"
  },
  "language_info": {
   "codemirror_mode": {
    "name": "ipython",
    "version": 3
   },
   "file_extension": ".py",
   "mimetype": "text/x-python",
   "name": "python",
   "nbconvert_exporter": "python",
   "pygments_lexer": "ipython3",
   "version": "3.12.9"
  }
 },
 "nbformat": 4,
 "nbformat_minor": 5
}
